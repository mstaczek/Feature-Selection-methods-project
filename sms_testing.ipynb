{
 "cells": [
  {
   "attachments": {},
   "cell_type": "markdown",
   "metadata": {},
   "source": [
    "# SMS data"
   ]
  },
  {
   "attachments": {},
   "cell_type": "markdown",
   "metadata": {},
   "source": [
    "# Loading data"
   ]
  },
  {
   "cell_type": "code",
   "execution_count": 151,
   "metadata": {},
   "outputs": [],
   "source": [
    "import pandas as pd\n",
    "\n",
    "sms = pd.read_csv(\"data/sms_train.csv\", sep=',')\n",
    "sms.columns = ['label', 'message']"
   ]
  },
  {
   "cell_type": "code",
   "execution_count": 152,
   "metadata": {},
   "outputs": [
    {
     "data": {
      "text/html": [
       "<div>\n",
       "<style scoped>\n",
       "    .dataframe tbody tr th:only-of-type {\n",
       "        vertical-align: middle;\n",
       "    }\n",
       "\n",
       "    .dataframe tbody tr th {\n",
       "        vertical-align: top;\n",
       "    }\n",
       "\n",
       "    .dataframe thead tr th {\n",
       "        text-align: left;\n",
       "    }\n",
       "\n",
       "    .dataframe thead tr:last-of-type th {\n",
       "        text-align: right;\n",
       "    }\n",
       "</style>\n",
       "<table border=\"1\" class=\"dataframe\">\n",
       "  <thead>\n",
       "    <tr>\n",
       "      <th></th>\n",
       "      <th colspan=\"4\" halign=\"left\">message</th>\n",
       "    </tr>\n",
       "    <tr>\n",
       "      <th></th>\n",
       "      <th>count</th>\n",
       "      <th>unique</th>\n",
       "      <th>top</th>\n",
       "      <th>freq</th>\n",
       "    </tr>\n",
       "    <tr>\n",
       "      <th>label</th>\n",
       "      <th></th>\n",
       "      <th></th>\n",
       "      <th></th>\n",
       "      <th></th>\n",
       "    </tr>\n",
       "  </thead>\n",
       "  <tbody>\n",
       "    <tr>\n",
       "      <th>0</th>\n",
       "      <td>3959</td>\n",
       "      <td>3730</td>\n",
       "      <td>Sorry, I'll call later</td>\n",
       "      <td>26</td>\n",
       "    </tr>\n",
       "    <tr>\n",
       "      <th>1</th>\n",
       "      <td>613</td>\n",
       "      <td>552</td>\n",
       "      <td>Please call our customer service representativ...</td>\n",
       "      <td>4</td>\n",
       "    </tr>\n",
       "  </tbody>\n",
       "</table>\n",
       "</div>"
      ],
      "text/plain": [
       "      message                                                               \n",
       "        count unique                                                top freq\n",
       "label                                                                       \n",
       "0        3959   3730                             Sorry, I'll call later   26\n",
       "1         613    552  Please call our customer service representativ...    4"
      ]
     },
     "execution_count": 152,
     "metadata": {},
     "output_type": "execute_result"
    }
   ],
   "source": [
    "sms.groupby('label').describe()"
   ]
  },
  {
   "attachments": {},
   "cell_type": "markdown",
   "metadata": {},
   "source": [
    "Training dataset is not balanced - balanced accuracy score will be helpful here."
   ]
  },
  {
   "attachments": {},
   "cell_type": "markdown",
   "metadata": {},
   "source": [
    "### Cleaning, stemming and counting words"
   ]
  },
  {
   "cell_type": "code",
   "execution_count": 153,
   "metadata": {},
   "outputs": [],
   "source": [
    "import re\n",
    "import string\n",
    "import nltk\n",
    "stemmer = nltk.SnowballStemmer(\"english\")"
   ]
  },
  {
   "cell_type": "code",
   "execution_count": 154,
   "metadata": {},
   "outputs": [],
   "source": [
    "## this cell has been copied from: \n",
    "## https://www.kaggle.com/code/andreshg/nlp-glove-bert-tf-idf-lstm-explained\n",
    "\n",
    "\n",
    "# Special thanks to https://www.kaggle.com/tanulsingh077 for this function\n",
    "def clean_text(text):\n",
    "    '''Make text lowercase, remove text in square brackets,remove links,remove punctuation\n",
    "    and remove words containing numbers.'''\n",
    "    text = str(text).lower()\n",
    "    text = re.sub('\\[.*?\\]', '', text)\n",
    "    text = re.sub('https?://\\S+|www\\.\\S+', '', text)\n",
    "    text = re.sub('<.*?>+', '', text)\n",
    "    text = re.sub('[%s]' % re.escape(string.punctuation), '', text)\n",
    "    text = re.sub('\\n', '', text)\n",
    "    text = re.sub('\\w*\\d\\w*', '', text)\n",
    "    text = ' '.join(stemmer.stem(word) for word in text.split(' '))\n",
    "    return text\n",
    "\n",
    "sms['message_clean'] = sms['message'].apply(clean_text)"
   ]
  },
  {
   "cell_type": "code",
   "execution_count": 155,
   "metadata": {},
   "outputs": [],
   "source": [
    "# train test split\n",
    "from sklearn.model_selection import train_test_split\n",
    "X_train, X_valid, y_train, y_valid = train_test_split(sms['message_clean'], \n",
    "                                                    sms['label'],\n",
    "                                                    test_size=0.2,\n",
    "                                                    random_state=0)\n",
    "X_test = pd.read_csv(\"data/sms_test.csv\", sep=',')\n",
    "X_test.columns = ['message']\n",
    "X_test['message_clean'] = X_test['message'].apply(clean_text)"
   ]
  },
  {
   "cell_type": "code",
   "execution_count": 156,
   "metadata": {},
   "outputs": [],
   "source": [
    "from sklearn.feature_extraction.text import CountVectorizer\n",
    "\n",
    "vect = CountVectorizer()\n",
    "vect.fit(X_train)\n",
    "word_to_id_df = pd.DataFrame([{'label':k, 'id':i} for k, i in vect.vocabulary_.items()])\n",
    "word_to_id_df = word_to_id_df.sort_values(by='id').reset_index(drop=True)\n",
    "def encode_dataset(X, words_to_ids):\n",
    "    X_transformed = vect.transform(X)\n",
    "    X_encoded = pd.DataFrame(X_transformed.toarray(), columns=words_to_ids['label'])\n",
    "    X_encoded.columns.name = ''\n",
    "    return X_encoded\n",
    "X_train_encoded = encode_dataset(X_train, word_to_id_df)\n",
    "X_valid_encoded = encode_dataset(X_valid, word_to_id_df)\n",
    "X_test_encoded = encode_dataset(X_test['message_clean'], word_to_id_df)"
   ]
  },
  {
   "cell_type": "code",
   "execution_count": 157,
   "metadata": {},
   "outputs": [
    {
     "data": {
      "text/html": [
       "<div>\n",
       "<style scoped>\n",
       "    .dataframe tbody tr th:only-of-type {\n",
       "        vertical-align: middle;\n",
       "    }\n",
       "\n",
       "    .dataframe tbody tr th {\n",
       "        vertical-align: top;\n",
       "    }\n",
       "\n",
       "    .dataframe thead th {\n",
       "        text-align: right;\n",
       "    }\n",
       "</style>\n",
       "<table border=\"1\" class=\"dataframe\">\n",
       "  <thead>\n",
       "    <tr style=\"text-align: right;\">\n",
       "      <th></th>\n",
       "      <th>aa</th>\n",
       "      <th>aah</th>\n",
       "      <th>aaniy</th>\n",
       "      <th>aaooooright</th>\n",
       "      <th>aathilov</th>\n",
       "      <th>aathiwher</th>\n",
       "      <th>ab</th>\n",
       "      <th>abdomen</th>\n",
       "      <th>abeg</th>\n",
       "      <th>abelu</th>\n",
       "      <th>...</th>\n",
       "      <th>zebra</th>\n",
       "      <th>zed</th>\n",
       "      <th>zhong</th>\n",
       "      <th>zindgi</th>\n",
       "      <th>zoe</th>\n",
       "      <th>zogtorius</th>\n",
       "      <th>zoom</th>\n",
       "      <th>zyada</th>\n",
       "      <th>üll</th>\n",
       "      <th>〨ud</th>\n",
       "    </tr>\n",
       "  </thead>\n",
       "  <tbody>\n",
       "    <tr>\n",
       "      <th>0</th>\n",
       "      <td>0</td>\n",
       "      <td>0</td>\n",
       "      <td>0</td>\n",
       "      <td>0</td>\n",
       "      <td>0</td>\n",
       "      <td>0</td>\n",
       "      <td>0</td>\n",
       "      <td>0</td>\n",
       "      <td>0</td>\n",
       "      <td>0</td>\n",
       "      <td>...</td>\n",
       "      <td>0</td>\n",
       "      <td>0</td>\n",
       "      <td>0</td>\n",
       "      <td>0</td>\n",
       "      <td>0</td>\n",
       "      <td>0</td>\n",
       "      <td>0</td>\n",
       "      <td>0</td>\n",
       "      <td>0</td>\n",
       "      <td>0</td>\n",
       "    </tr>\n",
       "    <tr>\n",
       "      <th>1</th>\n",
       "      <td>0</td>\n",
       "      <td>0</td>\n",
       "      <td>0</td>\n",
       "      <td>0</td>\n",
       "      <td>0</td>\n",
       "      <td>0</td>\n",
       "      <td>0</td>\n",
       "      <td>0</td>\n",
       "      <td>0</td>\n",
       "      <td>0</td>\n",
       "      <td>...</td>\n",
       "      <td>0</td>\n",
       "      <td>0</td>\n",
       "      <td>0</td>\n",
       "      <td>0</td>\n",
       "      <td>0</td>\n",
       "      <td>0</td>\n",
       "      <td>0</td>\n",
       "      <td>0</td>\n",
       "      <td>0</td>\n",
       "      <td>0</td>\n",
       "    </tr>\n",
       "    <tr>\n",
       "      <th>2</th>\n",
       "      <td>0</td>\n",
       "      <td>0</td>\n",
       "      <td>0</td>\n",
       "      <td>0</td>\n",
       "      <td>0</td>\n",
       "      <td>0</td>\n",
       "      <td>0</td>\n",
       "      <td>0</td>\n",
       "      <td>0</td>\n",
       "      <td>0</td>\n",
       "      <td>...</td>\n",
       "      <td>0</td>\n",
       "      <td>0</td>\n",
       "      <td>0</td>\n",
       "      <td>0</td>\n",
       "      <td>0</td>\n",
       "      <td>0</td>\n",
       "      <td>0</td>\n",
       "      <td>0</td>\n",
       "      <td>0</td>\n",
       "      <td>0</td>\n",
       "    </tr>\n",
       "    <tr>\n",
       "      <th>3</th>\n",
       "      <td>0</td>\n",
       "      <td>0</td>\n",
       "      <td>0</td>\n",
       "      <td>0</td>\n",
       "      <td>0</td>\n",
       "      <td>0</td>\n",
       "      <td>0</td>\n",
       "      <td>0</td>\n",
       "      <td>0</td>\n",
       "      <td>0</td>\n",
       "      <td>...</td>\n",
       "      <td>0</td>\n",
       "      <td>0</td>\n",
       "      <td>0</td>\n",
       "      <td>0</td>\n",
       "      <td>0</td>\n",
       "      <td>0</td>\n",
       "      <td>0</td>\n",
       "      <td>0</td>\n",
       "      <td>0</td>\n",
       "      <td>0</td>\n",
       "    </tr>\n",
       "    <tr>\n",
       "      <th>4</th>\n",
       "      <td>0</td>\n",
       "      <td>0</td>\n",
       "      <td>0</td>\n",
       "      <td>0</td>\n",
       "      <td>0</td>\n",
       "      <td>0</td>\n",
       "      <td>0</td>\n",
       "      <td>0</td>\n",
       "      <td>0</td>\n",
       "      <td>0</td>\n",
       "      <td>...</td>\n",
       "      <td>0</td>\n",
       "      <td>0</td>\n",
       "      <td>0</td>\n",
       "      <td>0</td>\n",
       "      <td>0</td>\n",
       "      <td>0</td>\n",
       "      <td>0</td>\n",
       "      <td>0</td>\n",
       "      <td>0</td>\n",
       "      <td>0</td>\n",
       "    </tr>\n",
       "  </tbody>\n",
       "</table>\n",
       "<p>5 rows × 5546 columns</p>\n",
       "</div>"
      ],
      "text/plain": [
       "   aa  aah  aaniy  aaooooright  aathilov  aathiwher  ab  abdomen  abeg  abelu  \\\n",
       "0   0    0      0            0         0          0   0        0     0      0   \n",
       "1   0    0      0            0         0          0   0        0     0      0   \n",
       "2   0    0      0            0         0          0   0        0     0      0   \n",
       "3   0    0      0            0         0          0   0        0     0      0   \n",
       "4   0    0      0            0         0          0   0        0     0      0   \n",
       "\n",
       "   ...  zebra  zed  zhong  zindgi  zoe  zogtorius  zoom  zyada  üll  〨ud  \n",
       "0  ...      0    0      0       0    0          0     0      0    0    0  \n",
       "1  ...      0    0      0       0    0          0     0      0    0    0  \n",
       "2  ...      0    0      0       0    0          0     0      0    0    0  \n",
       "3  ...      0    0      0       0    0          0     0      0    0    0  \n",
       "4  ...      0    0      0       0    0          0     0      0    0    0  \n",
       "\n",
       "[5 rows x 5546 columns]"
      ]
     },
     "execution_count": 157,
     "metadata": {},
     "output_type": "execute_result"
    }
   ],
   "source": [
    "X_train_encoded.head()"
   ]
  },
  {
   "attachments": {},
   "cell_type": "markdown",
   "metadata": {},
   "source": [
    "# Feature selection"
   ]
  },
  {
   "attachments": {},
   "cell_type": "markdown",
   "metadata": {},
   "source": [
    "## Boruta"
   ]
  },
  {
   "cell_type": "code",
   "execution_count": 158,
   "metadata": {},
   "outputs": [
    {
     "name": "stdout",
     "output_type": "stream",
     "text": [
      "Number of features selected: 132\n"
     ]
    }
   ],
   "source": [
    "from boruta import BorutaPy\n",
    "from sklearn.ensemble import RandomForestClassifier\n",
    "rf = RandomForestClassifier(max_depth=7, random_state=42, class_weight='balanced', n_jobs=-1)\n",
    "feat_selector = BorutaPy(rf, n_estimators='auto', random_state=42, verbose=0)\n",
    "import numpy as np\n",
    "np.int = int\n",
    "np.float = float\n",
    "np.bool = bool\n",
    "feat_selector.fit(X_train_encoded.values, y_train)\n",
    "print(f'Number of features selected: {feat_selector.n_features_}')\n",
    "X_train_filtered = feat_selector.transform(X_train_encoded.values)\n",
    "X_valid_filtered = feat_selector.transform(X_valid_encoded.values)\n",
    "X_test_filtered = feat_selector.transform(X_test_encoded.values)"
   ]
  },
  {
   "cell_type": "code",
   "execution_count": 159,
   "metadata": {},
   "outputs": [
    {
     "name": "stdout",
     "output_type": "stream",
     "text": [
      "Selected 132 features: ['admir', 'and', 'appli', 'at', 'attempt', 'await', 'award', 'bonus', 'box', 'but', 'call', 'camera', 'can', 'cash', 'chanc', 'chat', 'claim', 'club', 'code', 'collect', 'come', 'contact', 'cost', 'credit', 'custom', 'date', 'do', 'draw', 'eg', 'entri', 'everi', 'for', 'free', 'from', 'game', 'get', 'go', 'got', 'guarante', 'have', 'he', 'holiday', 'hot', 'how', 'if', 'ill', 'im', 'in', 'is', 'it', 'know', 'landlin', 'later', 'latest', 'like', 'line', 'love', 'ltd', 'ltgt', 'me', 'messag', 'min', 'mob', 'mobil', 'music', 'my', 'network', 'new', 'nokia', 'not', 'now', 'number', 'offer', 'ok', 'on', 'onli', 'or', 'orang', 'our', 'out', 'per', 'phone', 'pic', 'pleas', 'po', 'poli', 'pound', 'prize', 'rate', 'receiv', 'repli', 'rington', 'rreveal', 'sae', 'select', 'send', 'servic', 'sms', 'so', 'sorri', 'specialcal', 'stop', 'tc', 'tcs', 'text', 'that', 'the', 'this', 'to', 'tone', 'tscs', 'txt', 'ufind', 'uk', 'unsubscrib', 'ur', 'urgent', 'valid', 'video', 'voucher', 'was', 'week', 'when', 'who', 'win', 'with', 'wkli', 'won', 'word', 'work', 'you', 'your']\n"
     ]
    }
   ],
   "source": [
    "# print names of selected features\n",
    "selected_features = X_train_encoded.columns[feat_selector.support_].values.tolist()\n",
    "print(f'Selected {len(selected_features)} features: {selected_features}')"
   ]
  },
  {
   "attachments": {},
   "cell_type": "markdown",
   "metadata": {},
   "source": [
    "### Naive Bayes vs correlation threshold"
   ]
  },
  {
   "cell_type": "code",
   "execution_count": 160,
   "metadata": {},
   "outputs": [
    {
     "data": {
      "image/png": "[encoded data removed]",
      "text/plain": [
       "<Figure size 640x480 with 1 Axes>"
      ]
     },
     "metadata": {},
     "output_type": "display_data"
    },
    {
     "name": "stdout",
     "output_type": "stream",
     "text": [
      "Best threshold: 0.5151\n"
     ]
    }
   ],
   "source": [
    "import matplotlib.pyplot as plt\n",
    "import seaborn as sns\n",
    "\n",
    "def get_accuracy_for_threshold(threshold):\n",
    "\n",
    "    corr_matrix = pd.DataFrame(X_train_filtered, columns=selected_features).corr().abs()\n",
    "    upper = corr_matrix.where(np.triu(np.ones(corr_matrix.shape), k=1).astype(np.bool))\n",
    "    to_drop = [column for column in upper.columns if any(upper[column] > threshold)]\n",
    "    X_train_filtered_small = pd.DataFrame(X_train_filtered, columns=selected_features).drop(to_drop, axis=1)\n",
    "    X_valid_filtered_small = pd.DataFrame(X_valid_filtered, columns=selected_features).drop(to_drop, axis=1)\n",
    "\n",
    "    nb = MultinomialNB()\n",
    "    nb.fit(X_train_filtered_small, y_train)\n",
    "    y_pred_train = nb.predict(X_train_filtered_small)\n",
    "    balanced_acc_train = balanced_accuracy_score(y_train, y_pred_train)\n",
    "    y_pred_valid = nb.predict(X_valid_filtered_small)\n",
    "    balanced_acc_valid = balanced_accuracy_score(y_valid, y_pred_valid)\n",
    "    score = balanced_acc_valid - 0.01 * max(X_train_filtered_small.shape[1] / 100 - 1, 0)\n",
    "\n",
    "    return {'Threshold': threshold, 'Accuracy train': balanced_acc_train, 'Accuracy valid': balanced_acc_valid, 'Score': score}\n",
    "\n",
    "thresholds = np.linspace(0.01, 1, 50)\n",
    "results = pd.DataFrame([get_accuracy_for_threshold(t) for t in thresholds])\n",
    "sns.lineplot(x='Threshold', y='Accuracy train', data=results, label='Train accuracy')\n",
    "sns.lineplot(x='Threshold', y='Accuracy valid', data=results, label='Valid accuracy')\n",
    "sns.lineplot(x='Threshold', y='Score', data=results, label='Score')\n",
    "plt.title('Naive Bayes accuracy vs. correlation threshold')\n",
    "plt.show()\n",
    "\n",
    "print(f'Best threshold: {results.sort_values(by=\"Score\", ascending=False).iloc[0][\"Threshold\"]:0.4f}')"
   ]
  },
  {
   "cell_type": "code",
   "execution_count": 161,
   "metadata": {},
   "outputs": [
    {
     "name": "stdout",
     "output_type": "stream",
     "text": [
      "Number of features after dropping: 118\n",
      "Features after filtering: ['admir', 'and', 'appli', 'at', 'attempt', 'await', 'award', 'bonus', 'box', 'but', 'call', 'camera', 'can', 'cash', 'chanc', 'chat', 'claim', 'club', 'code', 'come', 'contact', 'cost', 'credit', 'custom', 'date', 'do', 'draw', 'eg', 'entri', 'everi', 'for', 'free', 'from', 'game', 'get', 'go', 'got', 'guarante', 'have', 'he', 'hot', 'how', 'if', 'ill', 'im', 'in', 'is', 'it', 'know', 'landlin', 'later', 'latest', 'like', 'line', 'love', 'ltd', 'ltgt', 'me', 'messag', 'min', 'mob', 'mobil', 'music', 'my', 'network', 'new', 'nokia', 'not', 'now', 'number', 'offer', 'ok', 'on', 'onli', 'or', 'our', 'out', 'per', 'phone', 'pic', 'pleas', 'poli', 'pound', 'rate', 'receiv', 'repli', 'rington', 'send', 'servic', 'sms', 'so', 'sorri', 'stop', 'tc', 'text', 'that', 'the', 'this', 'to', 'tone', 'tscs', 'txt', 'uk', 'unsubscrib', 'ur', 'urgent', 'video', 'voucher', 'was', 'week', 'when', 'win', 'with', 'wkli', 'word', 'work', 'you', 'your']\n",
      "Balanced accuracy score: 0.8958\n"
     ]
    }
   ],
   "source": [
    "import matplotlib.pyplot as plt\n",
    "import seaborn as sns\n",
    "\n",
    "best_threshold = results.sort_values(by=\"Score\", ascending=False).iloc[0][\"Threshold\"]\n",
    "corr_matrix = pd.DataFrame(X_train_filtered, columns=selected_features).corr().abs()\n",
    "upper = corr_matrix.where(np.triu(np.ones(corr_matrix.shape), k=1).astype(np.bool))\n",
    "to_drop = [column for column in upper.columns if any(upper[column] > best_threshold)]\n",
    "X_train_filtered_small = pd.DataFrame(X_train_filtered, columns=selected_features).drop(to_drop, axis=1)\n",
    "X_valid_filtered_small = pd.DataFrame(X_valid_filtered, columns=selected_features).drop(to_drop, axis=1)\n",
    "X_test_filtered_small = pd.DataFrame(X_test_filtered, columns=selected_features).drop(to_drop, axis=1)\n",
    "print(f'Number of features after dropping: {X_train_filtered_small.shape[1]}')\n",
    "selected_features_final = X_train_filtered_small.columns.values.tolist()\n",
    "print(f'Features after filtering: {selected_features_final}')\n",
    "\n",
    "from sklearn.naive_bayes import MultinomialNB\n",
    "nb = MultinomialNB()\n",
    "nb.fit(X_train_filtered_small, y_train)\n",
    "y_pred = nb.predict(X_valid_filtered_small)\n",
    "from sklearn.metrics import balanced_accuracy_score\n",
    "print(f'Balanced accuracy score: {balanced_accuracy_score(y_valid, y_pred):.4f}')"
   ]
  },
  {
   "attachments": {},
   "cell_type": "markdown",
   "metadata": {},
   "source": [
    "# Saving predictions"
   ]
  },
  {
   "cell_type": "code",
   "execution_count": null,
   "metadata": {},
   "outputs": [],
   "source": []
  }
 ],
 "metadata": {
  "kernelspec": {
   "display_name": "aml_lab",
   "language": "python",
   "name": "python3"
  },
  "language_info": {
   "codemirror_mode": {
    "name": "ipython",
    "version": 3
   },
   "file_extension": ".py",
   "mimetype": "text/x-python",
   "name": "python",
   "nbconvert_exporter": "python",
   "pygments_lexer": "ipython3",
   "version": "3.9.13"
  },
  "orig_nbformat": 4
 },
 "nbformat": 4,
 "nbformat_minor": 2
}
