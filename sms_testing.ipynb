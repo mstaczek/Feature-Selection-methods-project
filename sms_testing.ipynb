{
 "cells": [
  {
   "attachments": {},
   "cell_type": "markdown",
   "metadata": {},
   "source": [
    "# SMS data"
   ]
  },
  {
   "attachments": {},
   "cell_type": "markdown",
   "metadata": {},
   "source": [
    "# Loading data"
   ]
  },
  {
   "cell_type": "code",
   "execution_count": 5,
   "metadata": {},
   "outputs": [],
   "source": [
    "import pandas as pd\n",
    "\n",
    "sms = pd.read_csv(\"data/sms_train.csv\", sep=',')\n",
    "sms.columns = ['label', 'message']\n",
    "X_test = pd.read_csv(\"data/sms_test.csv\", sep=',')\n",
    "X_test.columns = ['message']"
   ]
  },
  {
   "cell_type": "code",
   "execution_count": 6,
   "metadata": {},
   "outputs": [
    {
     "data": {
      "text/html": [
       "<div>\n",
       "<style scoped>\n",
       "    .dataframe tbody tr th:only-of-type {\n",
       "        vertical-align: middle;\n",
       "    }\n",
       "\n",
       "    .dataframe tbody tr th {\n",
       "        vertical-align: top;\n",
       "    }\n",
       "\n",
       "    .dataframe thead tr th {\n",
       "        text-align: left;\n",
       "    }\n",
       "\n",
       "    .dataframe thead tr:last-of-type th {\n",
       "        text-align: right;\n",
       "    }\n",
       "</style>\n",
       "<table border=\"1\" class=\"dataframe\">\n",
       "  <thead>\n",
       "    <tr>\n",
       "      <th></th>\n",
       "      <th colspan=\"4\" halign=\"left\">message</th>\n",
       "    </tr>\n",
       "    <tr>\n",
       "      <th></th>\n",
       "      <th>count</th>\n",
       "      <th>unique</th>\n",
       "      <th>top</th>\n",
       "      <th>freq</th>\n",
       "    </tr>\n",
       "    <tr>\n",
       "      <th>label</th>\n",
       "      <th></th>\n",
       "      <th></th>\n",
       "      <th></th>\n",
       "      <th></th>\n",
       "    </tr>\n",
       "  </thead>\n",
       "  <tbody>\n",
       "    <tr>\n",
       "      <th>0</th>\n",
       "      <td>3959</td>\n",
       "      <td>3730</td>\n",
       "      <td>Sorry, I'll call later</td>\n",
       "      <td>26</td>\n",
       "    </tr>\n",
       "    <tr>\n",
       "      <th>1</th>\n",
       "      <td>613</td>\n",
       "      <td>552</td>\n",
       "      <td>Please call our customer service representativ...</td>\n",
       "      <td>4</td>\n",
       "    </tr>\n",
       "  </tbody>\n",
       "</table>\n",
       "</div>"
      ],
      "text/plain": [
       "      message                                                               \n",
       "        count unique                                                top freq\n",
       "label                                                                       \n",
       "0        3959   3730                             Sorry, I'll call later   26\n",
       "1         613    552  Please call our customer service representativ...    4"
      ]
     },
     "execution_count": 6,
     "metadata": {},
     "output_type": "execute_result"
    }
   ],
   "source": [
    "sms.groupby('label').describe()"
   ]
  },
  {
   "attachments": {},
   "cell_type": "markdown",
   "metadata": {},
   "source": [
    "Training dataset is not balanced - balanced accuracy score will be helpful here."
   ]
  },
  {
   "attachments": {},
   "cell_type": "markdown",
   "metadata": {},
   "source": [
    "### Counting words\n",
    "\n",
    "Only train set is used for counting words. Adding validation set would include bias in accuracies obtained later.\n",
    "\n",
    "This is why only 7000 words are found. If the validation was added too, there would be more words (close to 7879 as in the task description)."
   ]
  },
  {
   "cell_type": "code",
   "execution_count": 20,
   "metadata": {},
   "outputs": [],
   "source": [
    "from sklearn.model_selection import train_test_split\n",
    "X_train, X_valid, y_train, y_valid = train_test_split(sms['message'], sms['label'], test_size=0.2, random_state=0)"
   ]
  },
  {
   "cell_type": "code",
   "execution_count": 21,
   "metadata": {},
   "outputs": [],
   "source": [
    "from sklearn.feature_extraction.text import CountVectorizer\n",
    "\n",
    "vect = CountVectorizer()\n",
    "vect.fit(X_train)\n",
    "word_to_id_df = pd.DataFrame([{'label':k, 'id':i} for k, i in vect.vocabulary_.items()])\n",
    "word_to_id_df = word_to_id_df.sort_values(by='id').reset_index(drop=True)\n",
    "def encode_dataset(X, words_to_ids):\n",
    "    X_transformed = vect.transform(X)\n",
    "    X_encoded = pd.DataFrame(X_transformed.toarray(), columns=words_to_ids['label'])\n",
    "    X_encoded.columns.name = ''\n",
    "    return X_encoded\n",
    "X_train_encoded = encode_dataset(X_train, word_to_id_df)\n",
    "X_valid_encoded = encode_dataset(X_valid, word_to_id_df)\n",
    "X_test_encoded = encode_dataset(X_test['message'], word_to_id_df)"
   ]
  },
  {
   "cell_type": "code",
   "execution_count": 22,
   "metadata": {},
   "outputs": [
    {
     "data": {
      "text/plain": [
       "(3657, 7021)"
      ]
     },
     "execution_count": 22,
     "metadata": {},
     "output_type": "execute_result"
    }
   ],
   "source": [
    "X_train_encoded.shape # around 7000 columns"
   ]
  },
  {
   "cell_type": "code",
   "execution_count": 23,
   "metadata": {},
   "outputs": [
    {
     "data": {
      "text/html": [
       "<div>\n",
       "<style scoped>\n",
       "    .dataframe tbody tr th:only-of-type {\n",
       "        vertical-align: middle;\n",
       "    }\n",
       "\n",
       "    .dataframe tbody tr th {\n",
       "        vertical-align: top;\n",
       "    }\n",
       "\n",
       "    .dataframe thead th {\n",
       "        text-align: right;\n",
       "    }\n",
       "</style>\n",
       "<table border=\"1\" class=\"dataframe\">\n",
       "  <thead>\n",
       "    <tr style=\"text-align: right;\">\n",
       "      <th></th>\n",
       "      <th>00</th>\n",
       "      <th>000</th>\n",
       "      <th>000pes</th>\n",
       "      <th>008704050406</th>\n",
       "      <th>0089</th>\n",
       "      <th>0121</th>\n",
       "      <th>01223585236</th>\n",
       "      <th>01223585334</th>\n",
       "      <th>02</th>\n",
       "      <th>0207</th>\n",
       "      <th>...</th>\n",
       "      <th>zebra</th>\n",
       "      <th>zed</th>\n",
       "      <th>zhong</th>\n",
       "      <th>zindgi</th>\n",
       "      <th>zoe</th>\n",
       "      <th>zogtorius</th>\n",
       "      <th>zoom</th>\n",
       "      <th>zyada</th>\n",
       "      <th>ú1</th>\n",
       "      <th>〨ud</th>\n",
       "    </tr>\n",
       "  </thead>\n",
       "  <tbody>\n",
       "    <tr>\n",
       "      <th>0</th>\n",
       "      <td>0</td>\n",
       "      <td>0</td>\n",
       "      <td>0</td>\n",
       "      <td>0</td>\n",
       "      <td>0</td>\n",
       "      <td>0</td>\n",
       "      <td>0</td>\n",
       "      <td>0</td>\n",
       "      <td>0</td>\n",
       "      <td>0</td>\n",
       "      <td>...</td>\n",
       "      <td>0</td>\n",
       "      <td>0</td>\n",
       "      <td>0</td>\n",
       "      <td>0</td>\n",
       "      <td>0</td>\n",
       "      <td>0</td>\n",
       "      <td>0</td>\n",
       "      <td>0</td>\n",
       "      <td>0</td>\n",
       "      <td>0</td>\n",
       "    </tr>\n",
       "    <tr>\n",
       "      <th>1</th>\n",
       "      <td>0</td>\n",
       "      <td>0</td>\n",
       "      <td>0</td>\n",
       "      <td>0</td>\n",
       "      <td>0</td>\n",
       "      <td>0</td>\n",
       "      <td>0</td>\n",
       "      <td>0</td>\n",
       "      <td>0</td>\n",
       "      <td>0</td>\n",
       "      <td>...</td>\n",
       "      <td>0</td>\n",
       "      <td>0</td>\n",
       "      <td>0</td>\n",
       "      <td>0</td>\n",
       "      <td>0</td>\n",
       "      <td>0</td>\n",
       "      <td>0</td>\n",
       "      <td>0</td>\n",
       "      <td>0</td>\n",
       "      <td>0</td>\n",
       "    </tr>\n",
       "  </tbody>\n",
       "</table>\n",
       "<p>2 rows × 7021 columns</p>\n",
       "</div>"
      ],
      "text/plain": [
       "   00  000  000pes  008704050406  0089  0121  01223585236  01223585334  02  \\\n",
       "0   0    0       0             0     0     0            0            0   0   \n",
       "1   0    0       0             0     0     0            0            0   0   \n",
       "\n",
       "   0207  ...  zebra  zed  zhong  zindgi  zoe  zogtorius  zoom  zyada  ú1  〨ud  \n",
       "0     0  ...      0    0      0       0    0          0     0      0   0    0  \n",
       "1     0  ...      0    0      0       0    0          0     0      0   0    0  \n",
       "\n",
       "[2 rows x 7021 columns]"
      ]
     },
     "execution_count": 23,
     "metadata": {},
     "output_type": "execute_result"
    }
   ],
   "source": [
    "X_train_encoded.head(2)"
   ]
  },
  {
   "attachments": {},
   "cell_type": "markdown",
   "metadata": {},
   "source": [
    "# Feature selection"
   ]
  },
  {
   "attachments": {},
   "cell_type": "markdown",
   "metadata": {},
   "source": [
    "## KBest with mutual information"
   ]
  },
  {
   "cell_type": "code",
   "execution_count": 66,
   "metadata": {},
   "outputs": [
    {
     "name": "stdout",
     "output_type": "stream",
     "text": [
      "Selected 150 features: ['000pes', '08000930705', '08717898035', '10', '100', '1000', '12', '150', '150p', '16', '18', '1pm', '2003', '300', '3510i', '400', '50', '500', '62468', '69855', '6hl', '80062', '82277', '83355', '8ball', '9ja', 'acid', 'age16', 'aiyar', 'alian', 'applebees', 'ar', 'asks', 'attempt', 'banter', 'bitching', 'black', 'book', 'borrow', 'call', 'cancel', 'cash', 'chinatown', 'christmassy', 'claim', 'co', 'collection', 'com', 'cooked', 'craziest', 'delivery', 'draw', 'drms', 'ended', 'entry', 'fishhead', 'for', 'free', 'from', 'geeee', 'gt', 'guaranteed', 'gumby', 'half', 'happily', 'have', 'headache', 'his', 'hmmm', 'hogidhe', 'impatient', 'infernal', 'ip4', 'jobs', 'jsco', 'kick', 'kid', 'land', 'landline', 'lit', 'loans', 'lookin', 'looking', 'macho', 'maraikara', 'meds', 'mising', 'mobile', 'national', 'nearer', 'new', 'nok', 'nokia', 'now', 'olayiwola', 'or', 'our', 'paid', 'pic', 'po', 'predicting', 'prize', 'purchase', 'putting', 'quoting', 'reache', 'recd', 'redeemable', 'refused', 'remains', 'removal', 'reply', 'residency', 'rights', 'selected', 'service', 'settle', 'sh', 'simply', 'singles', 'sleep', 'sn', 'sonyericsson', 'spoilt', 'statement', 'stop', 'strange', 'surely', 'terminated', 'text', 'til', 'to', 'toking', 'tone', 'trains', 'txt', 'uk', 'urgent', 'use', 'videophones', 'vouchers', 'weather', 'win', 'wish', 'won', 'woulda', 'www', 'you', 'your', 'ything']\n"
     ]
    }
   ],
   "source": [
    "from sklearn.feature_selection import SelectKBest, mutual_info_classif\n",
    "\n",
    "selector = SelectKBest(mutual_info_classif, k=150)\n",
    "selector.fit(X_train_encoded, y_train)\n",
    "selected_columns = X_train_encoded.columns[selector.get_support()]\n",
    "X_train_encoded_selected = X_train_encoded[selected_columns]\n",
    "X_valid_encoded_selected = X_valid_encoded[selected_columns]\n",
    "X_test_encoded_selected = X_test_encoded[selected_columns]\n",
    "print(f'Selected {len(selected_columns)} features: {selected_columns.tolist()}')"
   ]
  },
  {
   "attachments": {},
   "cell_type": "markdown",
   "metadata": {},
   "source": [
    "### Naive Bayes with removing features based on correlation"
   ]
  },
  {
   "cell_type": "code",
   "execution_count": 67,
   "metadata": {},
   "outputs": [
    {
     "data": {
      "image/png": "[encoded data removed]",
      "text/plain": [
       "<Figure size 640x480 with 1 Axes>"
      ]
     },
     "metadata": {},
     "output_type": "display_data"
    },
    {
     "name": "stdout",
     "output_type": "stream",
     "text": [
      "Best threshold: 0.4141\n"
     ]
    }
   ],
   "source": [
    "import matplotlib.pyplot as plt\n",
    "import seaborn as sns\n",
    "from sklearn.metrics import balanced_accuracy_score\n",
    "from sklearn.naive_bayes import MultinomialNB\n",
    "\n",
    "def get_accuracy_for_threshold(threshold, X_train, X_valid, selected_features):\n",
    "\n",
    "    corr_matrix = pd.DataFrame(X_train, columns=selected_features).corr().abs()\n",
    "    upper = corr_matrix.where(np.triu(np.ones(corr_matrix.shape), k=1).astype(np.bool))\n",
    "    to_drop = [column for column in upper.columns if any(upper[column] > threshold)]\n",
    "    X_train_filtered_small = pd.DataFrame(X_train, columns=selected_features).drop(to_drop, axis=1)\n",
    "    X_valid_filtered_small = pd.DataFrame(X_valid, columns=selected_features).drop(to_drop, axis=1)\n",
    "\n",
    "    nb = MultinomialNB()\n",
    "    nb.fit(X_train_filtered_small, y_train)\n",
    "    y_pred_train = nb.predict(X_train_filtered_small)\n",
    "    balanced_acc_train = balanced_accuracy_score(y_train, y_pred_train)\n",
    "    y_pred_valid = nb.predict(X_valid_filtered_small)\n",
    "    balanced_acc_valid = balanced_accuracy_score(y_valid, y_pred_valid)\n",
    "    score = balanced_acc_valid - 0.01 * max(X_train_filtered_small.shape[1] / 100 - 1, 0)\n",
    "\n",
    "    return {'Threshold': threshold, 'Accuracy train': balanced_acc_train, 'Accuracy valid': balanced_acc_valid, 'Score': score}\n",
    "\n",
    "thresholds = np.linspace(0.01, 1, 50)\n",
    "results = pd.DataFrame([get_accuracy_for_threshold(t, X_train_encoded_selected, X_valid_encoded_selected, selected_columns) for t in thresholds])\n",
    "sns.lineplot(x='Threshold', y='Accuracy train', data=results, label='Train accuracy')\n",
    "sns.lineplot(x='Threshold', y='Accuracy valid', data=results, label='Valid accuracy')\n",
    "sns.lineplot(x='Threshold', y='Score', data=results, label='Score', linestyle='--')\n",
    "plt.title('Naive Bayes accuracy vs. correlation threshold')\n",
    "plt.show()\n",
    "\n",
    "print(f'Best threshold: {results.sort_values(by=\"Score\", ascending=False).iloc[0][\"Threshold\"]:0.4f}')"
   ]
  },
  {
   "cell_type": "code",
   "execution_count": 69,
   "metadata": {},
   "outputs": [
    {
     "name": "stdout",
     "output_type": "stream",
     "text": [
      "Number of features after dropping: 134\n",
      "Features after filtering: ['000pes', '08000930705', '08717898035', '10', '100', '1000', '12', '150p', '16', '18', '1pm', '2003', '300', '400', '50', '500', '62468', '69855', '6hl', '80062', '82277', '83355', '8ball', '9ja', 'acid', 'age16', 'aiyar', 'alian', 'applebees', 'ar', 'asks', 'attempt', 'banter', 'bitching', 'black', 'book', 'borrow', 'call', 'cancel', 'cash', 'chinatown', 'christmassy', 'claim', 'co', 'collection', 'com', 'cooked', 'craziest', 'delivery', 'draw', 'drms', 'ended', 'entry', 'for', 'free', 'from', 'geeee', 'gt', 'guaranteed', 'gumby', 'half', 'happily', 'have', 'headache', 'his', 'hmmm', 'hogidhe', 'impatient', 'infernal', 'ip4', 'jobs', 'jsco', 'kick', 'kid', 'lit', 'loans', 'lookin', 'looking', 'macho', 'maraikara', 'meds', 'mising', 'mobile', 'national', 'nearer', 'new', 'nok', 'nokia', 'now', 'olayiwola', 'or', 'our', 'paid', 'pic', 'po', 'predicting', 'purchase', 'putting', 'quoting', 'reache', 'recd', 'redeemable', 'refused', 'remains', 'removal', 'reply', 'residency', 'service', 'settle', 'sh', 'simply', 'singles', 'sleep', 'sn', 'sonyericsson', 'spoilt', 'stop', 'strange', 'surely', 'terminated', 'text', 'til', 'to', 'toking', 'trains', 'txt', 'use', 'weather', 'win', 'wish', 'woulda', 'you', 'your', 'ything']\n",
      "Balanced train accuracy score: 0.8983\n",
      "Balanced validation accuracy  score: 0.9359\n"
     ]
    }
   ],
   "source": [
    "import matplotlib.pyplot as plt\n",
    "import seaborn as sns\n",
    "\n",
    "best_threshold = results.sort_values(by=\"Score\", ascending=False).iloc[0][\"Threshold\"]\n",
    "corr_matrix = pd.DataFrame(X_train_encoded_selected, columns=selected_columns).corr().abs()\n",
    "upper = corr_matrix.where(np.triu(np.ones(corr_matrix.shape), k=1).astype(np.bool))\n",
    "to_drop = [column for column in upper.columns if any(upper[column] > best_threshold)]\n",
    "X_train_filtered_small = pd.DataFrame(X_train_encoded_selected, columns=selected_columns).drop(to_drop, axis=1)\n",
    "X_valid_filtered_small = pd.DataFrame(X_valid_encoded_selected, columns=selected_columns).drop(to_drop, axis=1)\n",
    "X_test_filtered_small = pd.DataFrame(X_test_encoded_selected, columns=selected_columns).drop(to_drop, axis=1)\n",
    "print(f'Number of features after dropping: {X_train_filtered_small.shape[1]}')\n",
    "selected_features_final = X_train_filtered_small.columns.values.tolist()\n",
    "print(f'Features after filtering: {selected_features_final}')\n",
    "\n",
    "nb = MultinomialNB()\n",
    "nb.fit(X_train_filtered_small, y_train)\n",
    "y_pred_train = nb.predict(X_train_filtered_small)\n",
    "balanced_acc_train = balanced_accuracy_score(y_train, y_pred_train)\n",
    "y_pred_valid = nb.predict(X_valid_filtered_small)\n",
    "balanced_acc_valid = balanced_accuracy_score(y_valid, y_pred_valid)\n",
    "print(f'Balanced train accuracy score: {balanced_acc_train:.4f}')\n",
    "print(f'Balanced validation accuracy  score: {balanced_accuracy_score(y_valid, y_pred):.4f}')\n"
   ]
  },
  {
   "attachments": {},
   "cell_type": "markdown",
   "metadata": {},
   "source": [
    "## Boruta"
   ]
  },
  {
   "cell_type": "code",
   "execution_count": 24,
   "metadata": {},
   "outputs": [
    {
     "name": "stdout",
     "output_type": "stream",
     "text": [
      "Number of features selected: 159\n"
     ]
    }
   ],
   "source": [
    "from boruta import BorutaPy\n",
    "from sklearn.ensemble import RandomForestClassifier\n",
    "rf = RandomForestClassifier(max_depth=7, random_state=42, class_weight='balanced', n_jobs=-1)\n",
    "feat_selector = BorutaPy(rf, n_estimators='auto', random_state=42, verbose=0)\n",
    "import numpy as np\n",
    "np.int = int\n",
    "np.float = float\n",
    "np.bool = bool\n",
    "feat_selector.fit(X_train_encoded.values, y_train)\n",
    "print(f'Number of features selected: {feat_selector.n_features_}')\n",
    "X_train_filtered = feat_selector.transform(X_train_encoded.values)\n",
    "X_valid_filtered = feat_selector.transform(X_valid_encoded.values)\n",
    "X_test_filtered = feat_selector.transform(X_test_encoded.values)"
   ]
  },
  {
   "cell_type": "code",
   "execution_count": 25,
   "metadata": {},
   "outputs": [
    {
     "name": "stdout",
     "output_type": "stream",
     "text": [
      "Selected 159 features: ['000', '08000839402', '10', '100', '1000', '10p', '150p', '150ppm', '16', '18', '1st', '2000', '50', '500', '5000', '8007', '86688', '87066', 'and', 'apply', 'at', 'await', 'award', 'awarded', 'bonus', 'box', 'but', 'call', 'camera', 'can', 'cash', 'chance', 'chat', 'claim', 'co', 'code', 'collection', 'colour', 'com', 'come', 'contact', 'cost', 'cs', 'customer', 'dating', 'do', 'double', 'draw', 'entry', 'every', 'find', 'for', 'free', 'freemsg', 'from', 'games', 'get', 'going', 'got', 'gt', 'guaranteed', 'has', 'have', 'he', 'holiday', 'home', 'hot', 'how', 'http', 'if', 'in', 'is', 'it', 'its', 'land', 'landline', 'later', 'latest', 'like', 'line', 'live', 'll', 'love', 'lt', 'ltd', 'me', 'min', 'mins', 'mob', 'mobile', 'msg', 'my', 'national', 'network', 'new', 'nokia', 'not', 'now', 'number', 'offer', 'offers', 'ok', 'on', 'only', 'or', 'orange', 'our', 'out', 'per', 'pics', 'please', 'po', 'poly', 'prize', 'quiz', 'rate', 'receive', 'reply', 'reveal', 'ringtone', 'sae', 'selected', 'send', 'service', 'shows', 'sms', 'so', 'sorry', 'stop', 'text', 'that', 'the', 'thinks', 'this', 'to', 'tone', 'tones', 'txt', 'uk', 'ur', 'urgent', 'valid', 'video', 'vouchers', 'was', 'week', 'weekly', 'when', 'who', 'win', 'with', 'wk', 'wkly', 'won', 'word', 'www', 'you', 'your', 'yours']\n"
     ]
    }
   ],
   "source": [
    "# print names of selected features\n",
    "selected_features = X_train_encoded.columns[feat_selector.support_].values.tolist()\n",
    "print(f'Selected {len(selected_features)} features: {selected_features}')"
   ]
  },
  {
   "attachments": {},
   "cell_type": "markdown",
   "metadata": {},
   "source": [
    "### Naive Bayes vs correlation threshold"
   ]
  },
  {
   "cell_type": "code",
   "execution_count": 27,
   "metadata": {},
   "outputs": [
    {
     "data": {
      "image/png": "[encoded data removed]",
      "text/plain": [
       "<Figure size 640x480 with 1 Axes>"
      ]
     },
     "metadata": {},
     "output_type": "display_data"
    },
    {
     "name": "stdout",
     "output_type": "stream",
     "text": [
      "Best threshold: 0.6161\n"
     ]
    }
   ],
   "source": [
    "import matplotlib.pyplot as plt\n",
    "import seaborn as sns\n",
    "from sklearn.metrics import balanced_accuracy_score\n",
    "from sklearn.naive_bayes import MultinomialNB\n",
    "\n",
    "def get_accuracy_for_threshold(threshold):\n",
    "\n",
    "    corr_matrix = pd.DataFrame(X_train_filtered, columns=selected_features).corr().abs()\n",
    "    upper = corr_matrix.where(np.triu(np.ones(corr_matrix.shape), k=1).astype(np.bool))\n",
    "    to_drop = [column for column in upper.columns if any(upper[column] > threshold)]\n",
    "    X_train_filtered_small = pd.DataFrame(X_train_filtered, columns=selected_features).drop(to_drop, axis=1)\n",
    "    X_valid_filtered_small = pd.DataFrame(X_valid_filtered, columns=selected_features).drop(to_drop, axis=1)\n",
    "\n",
    "    nb = MultinomialNB()\n",
    "    nb.fit(X_train_filtered_small, y_train)\n",
    "    y_pred_train = nb.predict(X_train_filtered_small)\n",
    "    balanced_acc_train = balanced_accuracy_score(y_train, y_pred_train)\n",
    "    y_pred_valid = nb.predict(X_valid_filtered_small)\n",
    "    balanced_acc_valid = balanced_accuracy_score(y_valid, y_pred_valid)\n",
    "    score = balanced_acc_valid - 0.01 * max(X_train_filtered_small.shape[1] / 100 - 1, 0)\n",
    "\n",
    "    return {'Threshold': threshold, 'Accuracy train': balanced_acc_train, 'Accuracy valid': balanced_acc_valid, 'Score': score}\n",
    "\n",
    "thresholds = np.linspace(0.01, 1, 50)\n",
    "results = pd.DataFrame([get_accuracy_for_threshold(t) for t in thresholds])\n",
    "sns.lineplot(x='Threshold', y='Accuracy train', data=results, label='Train accuracy')\n",
    "sns.lineplot(x='Threshold', y='Accuracy valid', data=results, label='Valid accuracy')\n",
    "sns.lineplot(x='Threshold', y='Score', data=results, label='Score')\n",
    "plt.title('Naive Bayes accuracy vs. correlation threshold')\n",
    "plt.show()\n",
    "\n",
    "print(f'Best threshold: {results.sort_values(by=\"Score\", ascending=False).iloc[0][\"Threshold\"]:0.4f}')"
   ]
  },
  {
   "cell_type": "code",
   "execution_count": 29,
   "metadata": {},
   "outputs": [
    {
     "name": "stdout",
     "output_type": "stream",
     "text": [
      "Number of features after dropping: 146\n",
      "Features after filtering: ['000', '08000839402', '10', '100', '1000', '10p', '150p', '150ppm', '16', '18', '1st', '2000', '50', '500', '5000', '8007', '86688', '87066', 'and', 'apply', 'at', 'await', 'award', 'awarded', 'bonus', 'box', 'but', 'call', 'camera', 'can', 'cash', 'chance', 'chat', 'claim', 'co', 'code', 'colour', 'com', 'come', 'contact', 'cost', 'cs', 'customer', 'dating', 'do', 'draw', 'entry', 'every', 'find', 'for', 'free', 'freemsg', 'from', 'games', 'get', 'going', 'got', 'gt', 'guaranteed', 'has', 'have', 'he', 'home', 'hot', 'how', 'http', 'if', 'in', 'is', 'it', 'its', 'land', 'landline', 'later', 'latest', 'like', 'live', 'll', 'love', 'ltd', 'me', 'min', 'mins', 'mob', 'mobile', 'msg', 'my', 'national', 'network', 'new', 'nokia', 'not', 'now', 'number', 'offer', 'offers', 'ok', 'on', 'only', 'or', 'our', 'out', 'per', 'pics', 'please', 'poly', 'prize', 'quiz', 'receive', 'reply', 'reveal', 'ringtone', 'send', 'service', 'shows', 'sms', 'so', 'sorry', 'stop', 'text', 'that', 'the', 'this', 'to', 'tone', 'tones', 'txt', 'ur', 'urgent', 'video', 'vouchers', 'was', 'week', 'weekly', 'when', 'who', 'win', 'with', 'wk', 'wkly', 'won', 'word', 'www', 'you', 'your', 'yours']\n",
      "Balanced train accuracy score: 0.9436\n",
      "Balanced validation accuracy  score: 0.9359\n"
     ]
    }
   ],
   "source": [
    "import matplotlib.pyplot as plt\n",
    "import seaborn as sns\n",
    "\n",
    "best_threshold = results.sort_values(by=\"Score\", ascending=False).iloc[0][\"Threshold\"]\n",
    "corr_matrix = pd.DataFrame(X_train_filtered, columns=selected_features).corr().abs()\n",
    "upper = corr_matrix.where(np.triu(np.ones(corr_matrix.shape), k=1).astype(np.bool))\n",
    "to_drop = [column for column in upper.columns if any(upper[column] > best_threshold)]\n",
    "X_train_filtered_small = pd.DataFrame(X_train_filtered, columns=selected_features).drop(to_drop, axis=1)\n",
    "X_valid_filtered_small = pd.DataFrame(X_valid_filtered, columns=selected_features).drop(to_drop, axis=1)\n",
    "X_test_filtered_small = pd.DataFrame(X_test_filtered, columns=selected_features).drop(to_drop, axis=1)\n",
    "print(f'Number of features after dropping: {X_train_filtered_small.shape[1]}')\n",
    "selected_features_final = X_train_filtered_small.columns.values.tolist()\n",
    "print(f'Features after filtering: {selected_features_final}')\n",
    "\n",
    "nb = MultinomialNB()\n",
    "nb.fit(X_train_filtered_small, y_train)\n",
    "y_pred_train = nb.predict(X_train_filtered_small)\n",
    "balanced_acc_train = balanced_accuracy_score(y_train, y_pred_train)\n",
    "y_pred_valid = nb.predict(X_valid_filtered_small)\n",
    "balanced_acc_valid = balanced_accuracy_score(y_valid, y_pred_valid)\n",
    "print(f'Balanced train accuracy score: {balanced_acc_train:.4f}')\n",
    "print(f'Balanced validation accuracy  score: {balanced_accuracy_score(y_valid, y_pred):.4f}')\n"
   ]
  },
  {
   "attachments": {},
   "cell_type": "markdown",
   "metadata": {},
   "source": [
    "# Saving predictions"
   ]
  },
  {
   "cell_type": "code",
   "execution_count": 31,
   "metadata": {},
   "outputs": [],
   "source": [
    "# save posterior probabilities to file\n",
    "y_proba_01 = nb.predict_proba(X_test_filtered_small)\n",
    "y_proba_1 = y_proba_01[:, 1]\n",
    "df_y_proba_1 = pd.DataFrame(y_proba_1)\n",
    "df_y_proba_1.to_csv('MACPAW_sms_prediction.csv', index=False, header=False)\n",
    "\n",
    "# save feature names to file\n",
    "with open('MACPAW_sms_features.txt', 'w') as f:\n",
    "    for feature in selected_features_final:\n",
    "        f.write(str(feature) + '\\n')"
   ]
  }
 ],
 "metadata": {
  "kernelspec": {
   "display_name": "aml_lab",
   "language": "python",
   "name": "python3"
  },
  "language_info": {
   "codemirror_mode": {
    "name": "ipython",
    "version": 3
   },
   "file_extension": ".py",
   "mimetype": "text/x-python",
   "name": "python",
   "nbconvert_exporter": "python",
   "pygments_lexer": "ipython3",
   "version": "3.9.13"
  },
  "orig_nbformat": 4
 },
 "nbformat": 4,
 "nbformat_minor": 2
}
